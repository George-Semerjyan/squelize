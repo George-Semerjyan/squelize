{
 "cells": [
  {
   "cell_type": "code",
   "execution_count": 105,
   "metadata": {
    "collapsed": true
   },
   "outputs": [],
   "source": [
    "import sqlalchemy\n",
    "from sqlalchemy.ext.automap import automap_base\n",
    "from sqlalchemy.orm import Session\n",
    "from sqlalchemy import create_engine, inspect, func\n",
    "import matplotlib.pyplot as plt\n",
    "import matplotlib.patches as mpatches\n",
    "from matplotlib import pyplot\n",
    "import datetime as dt\n",
    "from datetime import datetime\n",
    "import numpy as np\n",
    "import pandas as pd"
   ]
  },
  {
   "cell_type": "code",
   "execution_count": null,
   "metadata": {
    "collapsed": true
   },
   "outputs": [],
   "source": [
    "engine = create_engine(\"sqlite:///hawaii.sqlite\")\n",
    "conn = engine.connect()"
   ]
  },
  {
   "cell_type": "code",
   "execution_count": null,
   "metadata": {},
   "outputs": [],
   "source": [
    "Base = automap_base()\n",
    "Base.prepare(engine, reflect=True)    \n",
    "Base.classes.keys()"
   ]
  },
  {
   "cell_type": "code",
   "execution_count": null,
   "metadata": {
    "collapsed": true
   },
   "outputs": [],
   "source": [
    "stations = Base.classes.stations\n",
    "measurment = Base.classes.measurement"
   ]
  },
  {
   "cell_type": "code",
   "execution_count": null,
   "metadata": {
    "collapsed": true
   },
   "outputs": [],
   "source": [
    "session = Session(engine)\n"
   ]
  },
  {
   "cell_type": "code",
   "execution_count": null,
   "metadata": {},
   "outputs": [],
   "source": [
    "session.query(measurment.date).first()"
   ]
  },
  {
   "cell_type": "code",
   "execution_count": 8,
   "metadata": {},
   "outputs": [],
   "source": [
    "prcp = session.query(measurment.prcp).all()\n",
    "date = session.query(measurment.date).all()"
   ]
  },
  {
   "cell_type": "code",
   "execution_count": 9,
   "metadata": {
    "collapsed": true
   },
   "outputs": [],
   "source": [
    "modified_date = session.query(measurment.date).\\\n",
    "    filter(measurment.date > '2016-12-31').\\\n",
    "    order_by(measurment.date).all()"
   ]
  },
  {
   "cell_type": "code",
   "execution_count": 10,
   "metadata": {},
   "outputs": [],
   "source": [
    "measurement_data = conn.execute(\"select date, prcp from measurments WHERE date > '2016-12-31'\").fetchall()"
   ]
  },
  {
   "cell_type": "code",
   "execution_count": 11,
   "metadata": {
    "collapsed": true
   },
   "outputs": [],
   "source": [
    "date_list = []\n",
    "prcp_list = []\n",
    "for date in measurement_data:\n",
    "    date_list.append(date[0])\n",
    "    prcp_list.append(date[1])"
   ]
  },
  {
   "cell_type": "code",
   "execution_count": 12,
   "metadata": {
    "collapsed": true
   },
   "outputs": [],
   "source": [
    "import seaborn as sbrn"
   ]
  },
  {
   "cell_type": "code",
   "execution_count": 13,
   "metadata": {
    "collapsed": true
   },
   "outputs": [],
   "source": [
    "dates_list = [dt.datetime.strptime(date, \"%Y-%m-%d\").date() for date in date_list]"
   ]
  },
  {
   "cell_type": "code",
   "execution_count": 14,
   "metadata": {},
   "outputs": [
    {
     "name": "stderr",
     "output_type": "stream",
     "text": [
      "C:\\Users\\Gevork\\Anaconda3\\envs\\PythonData\\lib\\site-packages\\matplotlib\\__init__.py:1710: MatplotlibDeprecationWarning: The *left* kwarg to `bar` is deprecated use *x* instead. Support for *left* will be removed in Matplotlib 3.0\n",
      "  return func(ax, *args, **kwargs)\n"
     ]
    },
    {
     "data": {
      "image/png": "[encoded data removed]",
      "text/plain": [
       "<matplotlib.figure.Figure at 0x236d1ed06d8>"
      ]
     },
     "metadata": {},
     "output_type": "display_data"
    }
   ],
   "source": [
    "sbrn.set()\n",
    "plt.figure(figsize=(15,5))\n",
    "plt.bar(left = dates_list, height = prcp_list )\n",
    "plt.xticks(rotation=45)\n",
    "plt.xlabel(\"Date\")\n",
    "plt.ylabel(\"Precipitation\")\n",
    "\n",
    "patch = mpatches.Patch(color = \"blue\", label='Precipitation')\n",
    "plt.legend(handles=[patch])\n",
    "plt.show()"
   ]
  },
  {
   "cell_type": "code",
   "execution_count": 15,
   "metadata": {},
   "outputs": [
    {
     "data": {
      "text/plain": [
       "count    19550.000000\n",
       "mean         0.148753\n",
       "std          0.453021\n",
       "min          0.000000\n",
       "25%          0.000000\n",
       "50%          0.010000\n",
       "75%          0.090000\n",
       "max         11.530000\n",
       "Name: prcp, dtype: float64"
      ]
     },
     "execution_count": 15,
     "metadata": {},
     "output_type": "execute_result"
    }
   ],
   "source": [
    "measurments = pd.read_csv(\"C:\\\\Users\\Gevork\\Desktop\\clean_hawaii_measurements.csv\")\n",
    "measurments[\"prcp\"].describe()"
   ]
  },
  {
   "cell_type": "code",
   "execution_count": 16,
   "metadata": {},
   "outputs": [
    {
     "name": "stdout",
     "output_type": "stream",
     "text": [
      "The total number of stations are [(9,)] \n"
     ]
    }
   ],
   "source": [
    "total_number_of_stations = conn.execute(\"SELECT COUNT(*) FROM stations;\").fetchall()\n",
    "print(\"The total number of stations are %s \" % (total_number_of_stations))"
   ]
  },
  {
   "cell_type": "code",
   "execution_count": 17,
   "metadata": {},
   "outputs": [
    {
     "data": {
      "text/plain": [
       "[('USC00511918', 64),\n",
       " ('USC00513117', 77),\n",
       " ('USC00514830', 82),\n",
       " ('USC00516128', 76),\n",
       " ('USC00517948', 81),\n",
       " ('USC00518838', 70),\n",
       " ('USC00519281', 79),\n",
       " ('USC00519397', 81),\n",
       " ('USC00519523', 82)]"
      ]
     },
     "execution_count": 17,
     "metadata": {},
     "output_type": "execute_result"
    }
   ],
   "source": [
    "conn.execute(\"SELECT station, tobs  FROM Measurments GROUP BY station ;\").fetchall()\n",
    "# USC00514830 & USC00519523 :82"
   ]
  },
  {
   "cell_type": "code",
   "execution_count": 18,
   "metadata": {
    "collapsed": true
   },
   "outputs": [],
   "source": [
    "date_and_tobs = conn.execute(\"SELECT date, tobs FROM Measurments LEFT JOIN Stations ON Measurments.station = Stations.station WHERE date > '2016-12-31'\").fetchall()"
   ]
  },
  {
   "cell_type": "code",
   "execution_count": 19,
   "metadata": {
    "collapsed": true
   },
   "outputs": [],
   "source": [
    "Dates = conn.execute(\"SELECT date, prcp FROM Measurments WHERE date >= 2017-10-1 and date <= 2017-10-2\")"
   ]
  },
  {
   "cell_type": "code",
   "execution_count": 20,
   "metadata": {
    "collapsed": true
   },
   "outputs": [],
   "source": [
    "date_list_station = [] \n",
    "tobs_list = []\n",
    "for data in date_and_tobs:\n",
    "    time = dt.datetime.strptime(data[0], \"%Y-%m-%d\").date()\n",
    "    date_list_station.append(time)\n",
    "    tobs_list.append(data[1])"
   ]
  },
  {
   "cell_type": "code",
   "execution_count": 21,
   "metadata": {},
   "outputs": [
    {
     "data": {
      "image/png": "[encoded data removed]",
      "text/plain": [
       "<matplotlib.figure.Figure at 0x236d2433b38>"
      ]
     },
     "metadata": {},
     "output_type": "display_data"
    }
   ],
   "source": [
    "plt.hist(tobs_list, bins = 12, color = \"blue\", edgecolor = \"black\")\n",
    "plt.ylabel(\"Frequency\")\n",
    "patch = mpatches.Patch(color = \"blue\", label='tobs')\n",
    "plt.legend(handles=[patch])\n",
    "plt.show()"
   ]
  },
  {
   "cell_type": "code",
   "execution_count": 22,
   "metadata": {
    "collapsed": true
   },
   "outputs": [],
   "source": [
    "time_df = pd.DataFrame(date_and_tobs, columns = [\"Date\", \"Tobs\"])\n",
    "time_df[\"Date\"] = pd.to_datetime(time_df[\"Date\"])"
   ]
  },
  {
   "cell_type": "code",
   "execution_count": 92,
   "metadata": {},
   "outputs": [],
   "source": [
    "def calc_temps(start_date, end_date):\n",
    "    st_end = time_df[(time_df[\"Date\"] >= start_date) & (time_df[\"Date\"] <= end_date)] \n",
    "    mean = round(np.mean(st_end[\"Tobs\"]), 2)\n",
    "    minimum = np.min(st_end[\"Tobs\"])\n",
    "    maximum = np.max(st_end[\"Tobs\"])\n",
    "   \n",
    "\n",
    "    \n",
    "    print(\"The average Temperature from %s to %s is %s\" % (start_date, end_date, mean ))\n",
    "    print(\"The minimum Temperature from %s to %s is %s\" % (start_date, end_date, minimum ))\n",
    "    print(\"The maximum Temperature from %s to %s is %s\" % (start_date, end_date, maximum ))"
   ]
  },
  {
   "cell_type": "code",
   "execution_count": 93,
   "metadata": {},
   "outputs": [
    {
     "name": "stdout",
     "output_type": "stream",
     "text": [
      "The average Temperature from 2017-1-1 to 2018-1-1 is 74.14\n",
      "The minimum Temperature from 2017-1-1 to 2018-1-1 is 58\n",
      "The maximum Temperature from 2017-1-1 to 2018-1-1 is 87\n"
     ]
    }
   ],
   "source": [
    "calc_temps(\"2017-1-1\", \"2018-1-1\")"
   ]
  },
  {
   "cell_type": "code",
   "execution_count": 96,
   "metadata": {},
   "outputs": [],
   "source": [
    "avg = round(time_df['Tobs'].mean())"
   ]
  },
  {
   "cell_type": "code",
   "execution_count": 101,
   "metadata": {},
   "outputs": [
    {
     "data": {
      "text/plain": [
       "74"
      ]
     },
     "execution_count": 101,
     "metadata": {},
     "output_type": "execute_result"
    }
   ],
   "source": [
    "avg"
   ]
  },
  {
   "cell_type": "code",
   "execution_count": 111,
   "metadata": {},
   "outputs": [],
   "source": [
    "high = time_df[\"Tobs\"].max()\n",
    "low = time_df[\"Tobs\"].min()\n",
    "x_axis = np.arange(avg)"
   ]
  },
  {
   "cell_type": "code",
   "execution_count": 116,
   "metadata": {},
   "outputs": [
    {
     "data": {
      "image/png": "[encoded data removed]",
      "text/plain": [
       "<matplotlib.figure.Figure at 0x236d4c54048>"
      ]
     },
     "metadata": {},
     "output_type": "display_data"
    }
   ],
   "source": [
    "fig, ax = pyplot.subplots(figsize=(3,7))\n",
    "ax.bar(1, avg, color = 'blue', edgecolor = 'black', yerr=(high-low), capsize=7, label='test')\n",
    "ax.set_xticklabels([])\n",
    "plt.yticks(np.arange(0, avg+20, 5))\n",
    "plt.title (\"Average Temperature of your Vacation\")\n",
    "plt.ylabel (\"temperature (F)\")\n",
    "plt.show()"
   ]
  },
  {
   "cell_type": "code",
   "execution_count": null,
   "metadata": {
    "collapsed": true
   },
   "outputs": [],
   "source": []
  }
 ],
 "metadata": {
  "kernelspec": {
   "display_name": "Python 3",
   "language": "python",
   "name": "python3"
  },
  "language_info": {
   "codemirror_mode": {
    "name": "ipython",
    "version": 3
   },
   "file_extension": ".py",
   "mimetype": "text/x-python",
   "name": "python",
   "nbconvert_exporter": "python",
   "pygments_lexer": "ipython3",
   "version": "3.6.3"
  }
 },
 "nbformat": 4,
 "nbformat_minor": 2
}
